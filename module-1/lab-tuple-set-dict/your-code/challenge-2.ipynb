{
 "cells": [
  {
   "cell_type": "markdown",
   "metadata": {},
   "source": [
    "## Challenge 2: Sets\n",
    "\n",
    "There are a lot to learn about Python Sets and the information presented in the lesson is limited due to its length. To learn Python Sets in depth you are strongly encouraged to review the W3Schools tutorial on [Python Sets Examples and Methods](https://www.w3schools.com/python/python_sets.asp) before you work on this lab. Some difficult questions in this lab have their solutions in the W3Schools tutorial.\n",
    "\n",
    "#### First, import the Python `random` libary"
   ]
  },
  {
   "cell_type": "code",
   "execution_count": 2,
   "metadata": {},
   "outputs": [],
   "source": [
    "import random"
   ]
  },
  {
   "cell_type": "markdown",
   "metadata": {},
   "source": [
    "#### In the cell below, create a list named `sample_list_1` with 80 random values. \n",
    "\n",
    "Requirements:\n",
    "\n",
    "* Each value is an integer falling between 0 and 100.\n",
    "* Each value in the list is unique.\n",
    "\n",
    "Print `sample_list_1` to review its values\n",
    "\n",
    "*Hint: use `random.sample` ([reference](https://docs.python.org/3/library/random.html#random.sample)).*"
   ]
  },
  {
   "cell_type": "code",
   "execution_count": 11,
   "metadata": {},
   "outputs": [
    {
     "name": "stdout",
     "output_type": "stream",
     "text": [
      "[70, 85, 94, 71, 43, 44, 60, 53, 16, 9, 45, 61, 93, 32, 2, 72, 91, 75, 37, 62, 82, 98, 81, 0, 11, 77, 50, 92, 86, 10, 31, 84, 7, 58, 88, 28, 20, 8, 68, 64, 23, 38, 95, 78, 67, 36, 40, 21, 14, 15, 13, 69, 41, 74, 1, 33, 47, 25, 29, 17, 63, 52, 5, 3, 66, 49, 6, 83, 76, 89, 90, 51, 19, 57, 59, 24, 42, 18, 65, 26]\n"
     ]
    }
   ],
   "source": [
    "# Your code here\n",
    "sample_list_1 = random.sample(range(101),80)\n",
    "print(sample_list_1)\n"
   ]
  },
  {
   "cell_type": "markdown",
   "metadata": {},
   "source": [
    "#### Convert `sample_list_1` to a set called `set1`. Print the length of the set. Is its length still 80?"
   ]
  },
  {
   "cell_type": "code",
   "execution_count": 64,
   "metadata": {},
   "outputs": [
    {
     "name": "stdout",
     "output_type": "stream",
     "text": [
      "the length of the set now is: 80\n"
     ]
    }
   ],
   "source": [
    "# Your code here\n",
    "set1 = set(sample_list_1)\n",
    "print(\"the length of the set now is:\",len(set1))\n",
    "\n",
    "#The lenght is the same because the random.sample() method doesn't repeats values. \n",
    "#If the poppulation sample is smaller that the length of the list, it will return an error because it means that any value should be repeated."
   ]
  },
  {
   "cell_type": "markdown",
   "metadata": {},
   "source": [
    "#### Create another list named `sample_list_2` with 80 random values.\n",
    "\n",
    "Requirements:\n",
    "\n",
    "* Each value is an integer falling between 0 and 100.\n",
    "* The values in the list don't have to be unique.\n",
    "\n",
    "*Hint: Use a FOR loop.*"
   ]
  },
  {
   "cell_type": "code",
   "execution_count": 10,
   "metadata": {},
   "outputs": [
    {
     "name": "stdout",
     "output_type": "stream",
     "text": [
      "[17, 15, 42, 17, 11, 79, 34, 49, 1, 56, 32, 56, 20, 35, 93, 57, 95, 76, 14, 91, 16, 10, 94, 57, 23, 37, 10, 19, 13, 61, 25, 34, 59, 49, 41, 34, 47, 86, 65, 10, 14, 66, 45, 49, 94, 19, 92, 87, 2, 5, 36, 7, 2, 3, 28, 98, 100, 91, 18, 5, 10, 11, 43, 15, 51, 92, 22, 92, 0, 97, 79, 43, 72, 88, 85, 15, 40, 53, 45, 72]\n"
     ]
    }
   ],
   "source": [
    "# Your code here\n",
    "sample_list_2 = []\n",
    "\n",
    "for i in range(80):\n",
    "    sample_list_2.append(random.randrange(101))\n",
    "    \n",
    "    \n",
    "print(sample_list_2)"
   ]
  },
  {
   "cell_type": "markdown",
   "metadata": {},
   "source": [
    "#### Convert `sample_list_2` to a set called `set2`. Print the length of the set. Is its length still 80?"
   ]
  },
  {
   "cell_type": "code",
   "execution_count": 15,
   "metadata": {},
   "outputs": [
    {
     "name": "stdout",
     "output_type": "stream",
     "text": [
      "the length of the set now is: 55\n"
     ]
    }
   ],
   "source": [
    "# Your code here\n",
    "set2 = set(sample_list_2)\n",
    "print(\"the length of the set now is:\",len(set2))\n",
    "\n",
    "#Now the length is smaller that in set1 because now random function generates a random value without taking account the previous values in the list."
   ]
  },
  {
   "cell_type": "markdown",
   "metadata": {},
   "source": [
    "#### Identify the elements present in `set1` but not in `set2`. Assign the elements to a new set named `set3`."
   ]
  },
  {
   "cell_type": "code",
   "execution_count": 56,
   "metadata": {},
   "outputs": [
    {
     "name": "stdout",
     "output_type": "stream",
     "text": [
      "[6, 8, 9, 21, 24, 26, 29, 31, 33, 38, 44, 50, 52, 58, 60, 62, 63, 64, 67, 68, 69, 70, 71, 74, 75, 77, 78, 81, 82, 83, 84, 89, 90]\n"
     ]
    }
   ],
   "source": [
    "# Your code here\n",
    "set3 =[]\n",
    "for i in set1:\n",
    "    if i not in set2:\n",
    "        set3.append(i)\n",
    "\n",
    "print(set3)"
   ]
  },
  {
   "cell_type": "markdown",
   "metadata": {},
   "source": [
    "#### Identify the elements present in `set2` but not in `set1`. Assign the elements to a new set named `set4`."
   ]
  },
  {
   "cell_type": "code",
   "execution_count": 17,
   "metadata": {},
   "outputs": [
    {
     "name": "stdout",
     "output_type": "stream",
     "text": [
      "[22, 34, 35, 56, 79, 87, 97, 100]\n"
     ]
    }
   ],
   "source": [
    "# Your code here\n",
    "set4 = []\n",
    "\n",
    "for i in set2:\n",
    "    if i not in set1:\n",
    "        set4.append(i)\n",
    "        \n",
    "print(set4)"
   ]
  },
  {
   "cell_type": "markdown",
   "metadata": {},
   "source": [
    "#### Now Identify the elements shared between `set1` and `set2`. Assign the elements to a new set named `set5`."
   ]
  },
  {
   "cell_type": "code",
   "execution_count": 34,
   "metadata": {},
   "outputs": [
    {
     "name": "stdout",
     "output_type": "stream",
     "text": [
      "[0, 1, 2, 3, 5, 7, 10, 11, 13, 14, 15, 16, 17, 18, 19, 20, 23, 25, 28, 32, 36, 37, 40, 41, 42, 43, 45, 47, 49, 51, 53, 57, 59, 61, 65, 66, 72, 76, 85, 86, 88, 91, 92, 93, 94, 95, 98]\n"
     ]
    }
   ],
   "source": [
    "# Your code here\n",
    "set5 = []\n",
    "for i in set1:\n",
    "    if i in set2:\n",
    "        set5.append(i)\n",
    "print(set5)"
   ]
  },
  {
   "cell_type": "markdown",
   "metadata": {},
   "source": [
    "#### What is the relationship among the following values:\n",
    "\n",
    "* len(set1)\n",
    "* len(set2)\n",
    "* len(set3)\n",
    "* len(set4)\n",
    "* len(set5)\n",
    "\n",
    "Use a math formular to represent that relationship. Test your formular with Python code."
   ]
  },
  {
   "cell_type": "code",
   "execution_count": 57,
   "metadata": {},
   "outputs": [
    {
     "name": "stdout",
     "output_type": "stream",
     "text": [
      "Set 1 has 80 elements\n",
      "Set 2 has 55 elements\n",
      "Set 3 has 33 elements\n",
      "Set 4 has 8 elements\n",
      "Set 5 has 47 elements\n",
      "set3 is the difference between set1 and set2\n",
      "set4 is the difference between set2 and set1\n",
      "set5 is the intersection between set1 and set2\n"
     ]
    }
   ],
   "source": [
    "# Your code here\n",
    "\n",
    "print(\"Set 1 has \"+str(len(set1))+\" elements\")\n",
    "print(\"Set 2 has \"+str(len(set2))+\" elements\")\n",
    "print(\"Set 3 has \"+str(len(set3))+\" elements\")\n",
    "print(\"Set 4 has \"+str(len(set4))+\" elements\")\n",
    "print(\"Set 5 has \"+str(len(set5))+\" elements\")\n",
    "\n",
    "#set 3 is the difference between set1 and set2:\n",
    "if len(set3) == len(set1.difference(set2)):\n",
    "    print(\"set3 is the difference between set1 and set2\")\n",
    "\n",
    "#set 4 is the difference between set2 and set1:\n",
    "if len(set4) == len(set2.difference(set1)):\n",
    "    print(\"set4 is the difference between set2 and set1\")\n",
    "\n",
    "#set5 is the intersection between set1 and set2:\n",
    "\n",
    "if len(set5) == len(set2.intersection(set1)):\n",
    "    print(\"set5 is the intersection between set1 and set2\")\n",
    "    \n",
    "    "
   ]
  },
  {
   "cell_type": "markdown",
   "metadata": {},
   "source": [
    "#### Create an empty set called `set6`."
   ]
  },
  {
   "cell_type": "code",
   "execution_count": 40,
   "metadata": {},
   "outputs": [],
   "source": [
    "# Your code here\n",
    "set6 = set([])"
   ]
  },
  {
   "cell_type": "markdown",
   "metadata": {},
   "source": [
    "#### Add `set3` and `set5` to `set6` using the Python Set `update` method."
   ]
  },
  {
   "cell_type": "code",
   "execution_count": 43,
   "metadata": {},
   "outputs": [],
   "source": [
    "# Your code here\n",
    "set6.update(set3,set5)\n"
   ]
  },
  {
   "cell_type": "markdown",
   "metadata": {},
   "source": [
    "#### Check if `set1` and `set6` are equal."
   ]
  },
  {
   "cell_type": "code",
   "execution_count": 44,
   "metadata": {},
   "outputs": [
    {
     "name": "stdout",
     "output_type": "stream",
     "text": [
      "set1 and set6 are equal\n"
     ]
    }
   ],
   "source": [
    "# Your code here\n",
    "if set1 == set6:\n",
    "    print(\"set1 and set6 are equal\")"
   ]
  },
  {
   "cell_type": "markdown",
   "metadata": {},
   "source": [
    "#### Check if `set1` contains `set2` using the Python Set `issubset` method. Then check if `set1` contains `set3`.*"
   ]
  },
  {
   "cell_type": "code",
   "execution_count": 58,
   "metadata": {},
   "outputs": [
    {
     "name": "stdout",
     "output_type": "stream",
     "text": [
      "set1 doesn't contains set2\n",
      "set1 contains set3\n"
     ]
    }
   ],
   "source": [
    "# Your code here\n",
    "if set2.issubset(set1):\n",
    "    print(\"set1 contains set2\")\n",
    "else:print(\"set1 doesn't contains set2\")\n",
    "\n",
    "set3 = set(set3)    \n",
    "    \n",
    "if set3.issubset(set1):\n",
    "     print(\"set1 contains set3\")\n",
    "else:print(\"set1 doesn't contains set3\")"
   ]
  },
  {
   "cell_type": "markdown",
   "metadata": {},
   "source": [
    "#### Using the Python Set `union` method, aggregate `set3`, `set4`, and `set5`. Then aggregate `set1` and `set2`. \n",
    "\n",
    "#### Check if the aggregated values are equal."
   ]
  },
  {
   "cell_type": "code",
   "execution_count": 65,
   "metadata": {},
   "outputs": [
    {
     "name": "stdout",
     "output_type": "stream",
     "text": [
      "the sets are not equal\n"
     ]
    }
   ],
   "source": [
    "# Your code here\n",
    "set3.union(set4, set5)\n",
    "set1.union(set2)\n",
    "\n",
    "if set3 == set1:\n",
    "    print(\"the sets are equal\")\n",
    "else:print(\"the sets are not equal\")\n",
    "    "
   ]
  },
  {
   "cell_type": "markdown",
   "metadata": {},
   "source": [
    "#### Using the `pop` method, remove the first element from `set1`."
   ]
  },
  {
   "cell_type": "code",
   "execution_count": 66,
   "metadata": {},
   "outputs": [
    {
     "data": {
      "text/plain": [
       "0"
      ]
     },
     "execution_count": 66,
     "metadata": {},
     "output_type": "execute_result"
    }
   ],
   "source": [
    "# Your code here\n",
    "\n",
    "set1.pop()\n"
   ]
  },
  {
   "cell_type": "markdown",
   "metadata": {},
   "source": [
    "#### Remove every element in the following list from `set1` if they are present in the set. Print the remaining elements.\n",
    "\n",
    "```\n",
    "list_to_remove = [1, 9, 11, 19, 21, 29, 31, 39, 41, 49, 51, 59, 61, 69, 71, 79, 81, 89, 91, 99]\n",
    "```"
   ]
  },
  {
   "cell_type": "code",
   "execution_count": 72,
   "metadata": {},
   "outputs": [
    {
     "name": "stdout",
     "output_type": "stream",
     "text": [
      "{2, 3, 5, 6, 7, 8, 10, 13, 14, 15, 16, 17, 18, 20, 23, 24, 25, 26, 28, 32, 33, 36, 37, 38, 40, 42, 43, 44, 45, 47, 50, 52, 53, 57, 58, 60, 62, 63, 64, 65, 66, 67, 68, 70, 72, 74, 75, 76, 77, 78, 82, 83, 84, 85, 86, 88, 90, 92, 93, 94, 95, 98}\n"
     ]
    }
   ],
   "source": [
    "# Your code here\n",
    "list_to_remove = [1, 9, 11, 19, 21, 29, 31, 39, 41, 49, 51, 59, 61, 69, 71, 79, 81, 89, 91, 99]\n",
    "set(list_to_remove)\n",
    "set1.difference_update(list_to_remove)\n",
    "print(set1)"
   ]
  }
 ],
 "metadata": {
  "kernelspec": {
   "display_name": "Python 3",
   "language": "python",
   "name": "python3"
  },
  "language_info": {
   "codemirror_mode": {
    "name": "ipython",
    "version": 3
   },
   "file_extension": ".py",
   "mimetype": "text/x-python",
   "name": "python",
   "nbconvert_exporter": "python",
   "pygments_lexer": "ipython3",
   "version": "3.6.8"
  }
 },
 "nbformat": 4,
 "nbformat_minor": 2
}
